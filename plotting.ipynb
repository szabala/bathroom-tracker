{
 "cells": [
  {
   "cell_type": "markdown",
   "metadata": {},
   "source": [
    "## Imports and Data"
   ]
  },
  {
   "cell_type": "code",
   "execution_count": null,
   "metadata": {},
   "outputs": [],
   "source": [
    "# PLOTTING\n",
    "import matplotlib.pyplot as plt\n",
    "import matplotlib.colors as mcolors\n",
    "import seaborn as sns\n",
    "import pandas as pd\n",
    "import calmap\n",
    "import datetime\n",
    "import os\n",
    "\n",
    "# constants\n",
    "dateString = datetime.datetime.now().strftime(\"%d-%m\")\n",
    "SAVE_PATH = f\"plots/{dateString}/\"\n",
    "SAVE = True\n",
    "if SAVE and (not os.path.exists(SAVE_PATH)):\n",
    "    os.makedirs(SAVE_PATH)"
   ]
  },
  {
   "cell_type": "code",
   "execution_count": null,
   "metadata": {},
   "outputs": [],
   "source": [
    "# read data\n",
    "df = pd.read_csv('data/cacas_latest.csv', index_col=0)\n",
    "df['datetime'] = pd.to_datetime(df['datetime'], format='%Y-%m-%d %H:%M:%S')\n",
    "df.head()"
   ]
  },
  {
   "cell_type": "markdown",
   "metadata": {},
   "source": [
    "## Poop Ranking"
   ]
  },
  {
   "cell_type": "code",
   "execution_count": null,
   "metadata": {},
   "outputs": [],
   "source": [
    "# Aggregation\n",
    "agg_df = df.groupby(['user', 'emoji']).agg({\n",
    "    'count': 'sum'\n",
    "}).reset_index()\n",
    "\n",
    "# Renaming columns\n",
    "agg_df.columns = ['competidor', 'tipo', 'cantidad']\n",
    "\n",
    "# Pivot the data for stacked bar plot\n",
    "df_pivot = agg_df.pivot(index='competidor', columns='tipo', values='cantidad')"
   ]
  },
  {
   "cell_type": "code",
   "execution_count": null,
   "metadata": {},
   "outputs": [],
   "source": [
    "# Define the color list\n",
    "palette = sns.color_palette(\"gist_heat\", 2)\n",
    "\n",
    "# Plot the data\n",
    "df_pivot.plot(kind='bar', \n",
    "              stacked=True, \n",
    "              figsize=(10, 6),\n",
    "              color=palette\n",
    "              )\n",
    "plt.title('Gran Cagatón 2024 - Ranking')\n",
    "# Y axis\n",
    "plt.ylabel('Cagadas')\n",
    "# X axis\n",
    "plt.xlabel('Competidor')\n",
    "plt.xticks(rotation=0)\n",
    "plt.xticks(fontsize=10, fontweight='bold')\n",
    "\n",
    "# number above the bars\n",
    "for i in range(len(df_pivot)):\n",
    "    plt.text(i, df_pivot.iloc[i].sum() + 0.1, int(df_pivot.iloc[i].sum()), ha='center', fontsize=10, fontweight='bold')\n",
    "\n",
    "# Save the plot\n",
    "if SAVE:\n",
    "    plt.savefig(f\"{SAVE_PATH}ranking.png\")\n",
    "\n",
    "# Show the plot\n",
    "plt.show()"
   ]
  },
  {
   "cell_type": "markdown",
   "metadata": {},
   "source": [
    "## Poop Calendar"
   ]
  },
  {
   "cell_type": "code",
   "execution_count": null,
   "metadata": {},
   "outputs": [],
   "source": [
    "# convert datetime to date\n",
    "df['date'] = pd.to_datetime(df['datetime'].dt.date)\n",
    "df"
   ]
  },
  {
   "cell_type": "code",
   "execution_count": null,
   "metadata": {},
   "outputs": [],
   "source": [
    "# Group data by user and date, summing the 'cantidad' values\n",
    "grouped_data = df.groupby(['user', 'date'])['count'].sum().reset_index()\n",
    "\n",
    "# Get unique users\n",
    "unique_users = grouped_data['user'].unique()\n",
    "\n",
    "# Create subplots for each user\n",
    "fig, axes = plt.subplots(len(unique_users), 1, figsize=(21, 4 * len(unique_users)), sharex=True)\n",
    "\n",
    "# Set the title for the entire plot\n",
    "fig.suptitle('Gran Cagatón 2024 - Calendario', fontsize=30)\n",
    "\n",
    "# Iterate through each user and create a calendar map\n",
    "for i, user in enumerate(unique_users):\n",
    "    user_data = grouped_data[grouped_data['user'] == user].set_index('date')\n",
    "    cax = calmap.yearplot(\n",
    "        user_data['count'], \n",
    "        year=user_data.index.year.unique()[0], \n",
    "        ax=axes[i], \n",
    "        cmap='gist_heat_r', \n",
    "        fillcolor='lightgrey',\n",
    "        monthticks=1\n",
    "    )\n",
    "    fig.colorbar(cax.get_children()[1], ax=cax, orientation='vertical', pad=0.05, fraction=0.01)\n",
    "    # set fontsize for axis labels\n",
    "    axes[i].set_title(f\"{user}\")\n",
    "    axes[i].title.set_fontsize(20)\n",
    "    axes[i].title.set_fontweight('bold')\n",
    "\n",
    "# center it\n",
    "fig.tight_layout()\n",
    "\n",
    "# save the plot in the 'plots' folder with day and month in the filename\n",
    "if SAVE:\n",
    "    plt.savefig(f\"{SAVE_PATH}calendar.png\")\n",
    "\n",
    "plt.show()\n"
   ]
  },
  {
   "cell_type": "markdown",
   "metadata": {},
   "source": [
    "## Poop Lineplot"
   ]
  },
  {
   "cell_type": "code",
   "execution_count": null,
   "metadata": {},
   "outputs": [],
   "source": [
    "# group by date and user and sum the count\n",
    "df_indexed_date = df.copy()\n",
    "df_indexed_date.set_index('datetime', inplace=True)\n",
    "df_indexed_date.sort_index(inplace=True)\n",
    "\n",
    "# Group by date and user, sum the count\n",
    "df_grouped = df_indexed_date.groupby([df_indexed_date.index.date, 'user'])['count'].sum()\n",
    "\n",
    "# Unstack the user index\n",
    "df_grouped.index.names = ['date', 'Competidor']\n",
    "df_grouped = df_grouped.unstack()\n",
    "df_grouped = df_grouped.fillna(0).cumsum()\n",
    "\n",
    "\n",
    "# Plot\n",
    "palette = sns.color_palette(\"Dark2\")\n",
    "df_grouped.plot(\n",
    "    figsize=(20, 10),\n",
    "    color=palette\n",
    ")\n",
    "plt.title('Gran Cagatón 2024 - Cagadas Acumuladas')\n",
    "\n",
    "# Save the plot\n",
    "if SAVE:\n",
    "    plt.savefig(f\"{SAVE_PATH}acumulado.png\")"
   ]
  }
 ],
 "metadata": {
  "kernelspec": {
   "display_name": "Python 3",
   "language": "python",
   "name": "python3"
  },
  "language_info": {
   "codemirror_mode": {
    "name": "ipython",
    "version": 3
   },
   "file_extension": ".py",
   "mimetype": "text/x-python",
   "name": "python",
   "nbconvert_exporter": "python",
   "pygments_lexer": "ipython3",
   "version": "3.10.11"
  }
 },
 "nbformat": 4,
 "nbformat_minor": 2
}
