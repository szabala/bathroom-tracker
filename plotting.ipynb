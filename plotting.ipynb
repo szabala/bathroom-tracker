{
 "cells": [
  {
   "cell_type": "markdown",
   "metadata": {},
   "source": [
    "## Imports and Data"
   ]
  },
  {
   "cell_type": "code",
   "execution_count": null,
   "metadata": {},
   "outputs": [],
   "source": [
    "# PLOTTING\n",
    "import matplotlib.pyplot as plt\n",
    "import numpy as np\n",
    "import seaborn as sns\n",
    "import pandas as pd\n",
    "import calmap\n",
    "import datetime\n",
    "import os\n",
    "\n",
    "# constants\n",
    "dateString = datetime.datetime.now().strftime(\"%d-%m\")\n",
    "SAVE_PATH = f\"plots/{dateString}/\"\n",
    "SAVE = True\n",
    "if SAVE and (not os.path.exists(SAVE_PATH)):\n",
    "    os.makedirs(SAVE_PATH)"
   ]
  },
  {
   "cell_type": "code",
   "execution_count": null,
   "metadata": {},
   "outputs": [],
   "source": [
    "# read data\n",
    "df = pd.read_csv('data/cacas_latest.csv', index_col=0)\n",
    "df['datetime'] = pd.to_datetime(df['datetime'], format='%Y-%m-%d %H:%M:%S')\n",
    "df.tail()"
   ]
  },
  {
   "cell_type": "markdown",
   "metadata": {},
   "source": [
    "## Poop Ranking"
   ]
  },
  {
   "cell_type": "code",
   "execution_count": null,
   "metadata": {},
   "outputs": [],
   "source": [
    "# Aggregation\n",
    "agg_df = df.groupby(['user']).agg({\n",
    "    'caca': 'sum',\n",
    "    'laboral': 'sum',\n",
    "    'maloliente': 'sum',\n",
    "    'tapadon': 'sum'\n",
    "}).reset_index()"
   ]
  },
  {
   "cell_type": "code",
   "execution_count": null,
   "metadata": {},
   "outputs": [],
   "source": [
    "# Create DataFrame\n",
    "df_ranking = agg_df.copy()\n",
    "\n",
    "# Set the 'user' column as the index\n",
    "df_ranking.set_index('user', inplace=True)\n",
    "\n",
    "# Define the color list\n",
    "palette = sns.color_palette(\"gist_heat\", 4)\n",
    "\n",
    "# Plot the data\n",
    "df_ranking.plot(kind='bar',  \n",
    "              figsize=(10, 6),\n",
    "              color=palette\n",
    "              )\n",
    "plt.title('Gran Cagatón 2024 - Ranking')\n",
    "# Y axis\n",
    "plt.ylabel('Cagadas')\n",
    "# X axis\n",
    "plt.xlabel('Competidor')\n",
    "plt.xticks(rotation=0)\n",
    "plt.xticks(fontsize=10, fontweight='bold')\n",
    "\n",
    "# Add number labels above each bar\n",
    "for i, col in enumerate(df_ranking.columns):\n",
    "    for index, value in enumerate(df_ranking[col]):\n",
    "        # Tweak this until labels look good\n",
    "        x = index + i * (1 / 10) - 0.13\n",
    "        y = value + 1\n",
    "        plt.text(x, y, f\"{value}\", ha='center')\n",
    "\n",
    "\n",
    "# Save the plot\n",
    "if SAVE:\n",
    "    plt.savefig(f\"{SAVE_PATH}ranking.png\")\n",
    "\n",
    "# Show the plot\n",
    "plt.show()"
   ]
  },
  {
   "cell_type": "markdown",
   "metadata": {},
   "source": [
    "## Poop Calendar"
   ]
  },
  {
   "cell_type": "code",
   "execution_count": null,
   "metadata": {},
   "outputs": [],
   "source": [
    "# convert datetime to date\n",
    "df['date'] = pd.to_datetime(df['datetime'].dt.date)\n",
    "df"
   ]
  },
  {
   "cell_type": "code",
   "execution_count": null,
   "metadata": {},
   "outputs": [],
   "source": [
    "# Group data by user and date, summing the 'cantidad' values\n",
    "grouped_data = df.groupby(['user', 'date'])['caca'].sum().reset_index()\n",
    "\n",
    "# Get unique users\n",
    "unique_users = grouped_data['user'].unique()\n",
    "\n",
    "# Create subplots for each user\n",
    "fig, axes = plt.subplots(len(unique_users), 1, figsize=(21, 4 * len(unique_users)), sharex=True)\n",
    "\n",
    "# Set the title for the entire plot\n",
    "fig.suptitle('Gran Cagatón 2024 - Calendario', fontsize=30)\n",
    "\n",
    "# Iterate through each user and create a calendar map\n",
    "for i, user in enumerate(unique_users):\n",
    "    user_data = grouped_data[grouped_data['user'] == user].set_index('date')\n",
    "    cax = calmap.yearplot(\n",
    "        user_data['caca'], \n",
    "        year=user_data.index.year.unique()[0], \n",
    "        ax=axes[i], \n",
    "        cmap='gist_heat_r', \n",
    "        fillcolor='lightgrey',\n",
    "        monthticks=1\n",
    "    )\n",
    "    fig.colorbar(cax.get_children()[1], ax=cax, orientation='vertical', pad=0.05, fraction=0.01)\n",
    "    # set fontsize for axis labels\n",
    "    axes[i].set_title(f\"{user}\")\n",
    "    axes[i].title.set_fontsize(20)\n",
    "    axes[i].title.set_fontweight('bold')\n",
    "\n",
    "# center it\n",
    "fig.tight_layout()\n",
    "\n",
    "# save the plot in the 'plots' folder with day and month in the filename\n",
    "if SAVE:\n",
    "    plt.savefig(f\"{SAVE_PATH}calendar.png\")\n",
    "\n",
    "plt.show()\n"
   ]
  },
  {
   "cell_type": "markdown",
   "metadata": {},
   "source": [
    "## Poop Lineplot"
   ]
  },
  {
   "cell_type": "code",
   "execution_count": null,
   "metadata": {},
   "outputs": [],
   "source": [
    "# group by date and user and sum the count\n",
    "df_indexed_date = df.copy()\n",
    "df_indexed_date.set_index('datetime', inplace=True)\n",
    "df_indexed_date.sort_index(inplace=True)\n",
    "\n",
    "# Group by date and user, sum the count\n",
    "df_grouped = df_indexed_date.groupby([df_indexed_date.index.date, 'user'])['caca'].sum()\n",
    "\n",
    "# Unstack the user index\n",
    "df_grouped.index.names = ['date', 'Competidor']\n",
    "df_grouped = df_grouped.unstack()\n",
    "df_grouped = df_grouped.fillna(0).cumsum()\n",
    "\n",
    "\n",
    "# Plot\n",
    "palette = sns.color_palette(\"Dark2\")\n",
    "df_grouped.plot(\n",
    "    figsize=(20, 10),\n",
    "    color=palette\n",
    ")\n",
    "plt.title('Gran Cagatón 2024 - Cagadas Acumuladas')\n",
    "\n",
    "# Save the plot\n",
    "if SAVE:\n",
    "    plt.savefig(f\"{SAVE_PATH}acumulado.png\")"
   ]
  },
  {
   "cell_type": "markdown",
   "metadata": {},
   "source": [
    "## Poop Timeplot\n"
   ]
  },
  {
   "cell_type": "code",
   "execution_count": null,
   "metadata": {},
   "outputs": [],
   "source": [
    "# Assuming your dataset is in a DataFrame called df\n",
    "# Convert the 'datetime' column to hour format\n",
    "df['hour'] = pd.to_datetime(df['datetime']).dt.hour\n",
    "\n",
    "# Group by user and hour, and count the occurrences\n",
    "hourly_counts = df.groupby(['user', 'hour']).size().unstack(fill_value=0)\n",
    "\n",
    "# Set up the color palette\n",
    "palette = sns.color_palette(\"Dark2\", len(hourly_counts))\n",
    "\n",
    "# Determine the number of rows and columns for the layout\n",
    "n_users = len(hourly_counts)\n",
    "n_rows = 3\n",
    "n_cols = int(np.ceil(n_users / n_rows))\n",
    "\n",
    "# Plotting\n",
    "fig, axarr = plt.subplots(n_rows, n_cols, figsize=(7 * n_cols, 7 * n_rows), subplot_kw=dict(projection='polar'))\n",
    "\n",
    "# Flatten axarr for easy indexing if there's more than one subplot\n",
    "axarr = axarr.flatten()\n",
    "\n",
    "# Set up polar plot ticks\n",
    "ticks = ['12 AM', '1 AM', '2 AM', '3 AM', '4 AM', '5 AM', '6 AM', '7 AM', '8 AM', '9 AM', '10 AM', '11 AM',\n",
    "         '12 PM', '1 PM', '2 PM', '3 PM', '4 PM', '5 PM', '6 PM', '7 PM', '8 PM', '9 PM', '10 PM', '11 PM']\n",
    "\n",
    "for idx, (user, counts) in enumerate(hourly_counts.iterrows()):\n",
    "    ax = axarr[idx]\n",
    "    xs = counts.index * 2 * np.pi / 24  # Convert hours to radians\n",
    "    ys = counts.values\n",
    "\n",
    "    ax.bar(xs, ys, width=0.1, alpha=0.6, color=palette[idx], label=user)\n",
    "\n",
    "    # Make the labels go clockwise\n",
    "    ax.set_theta_direction(-1)\n",
    "\n",
    "    # Place Zero at Top\n",
    "    ax.set_theta_offset(np.pi / 2)\n",
    "\n",
    "    # Set the circumference ticks\n",
    "    ax.set_xticks(np.linspace(0, 2 * np.pi, 24, endpoint=False))\n",
    "\n",
    "    # Set the label names\n",
    "    ax.set_xticklabels(ticks)\n",
    "\n",
    "    # Suppress the radial labels\n",
    "    plt.setp(ax.get_yticklabels(), visible=False)\n",
    "\n",
    "    # Set the title for each subplot\n",
    "    ax.set_title(f\"Frecuencia horaria de {user}\")\n",
    "\n",
    "# Hide any unused subplots\n",
    "for j in range(idx + 1, n_rows * n_cols):\n",
    "    fig.delaxes(axarr[j])\n",
    "\n",
    "plt.tight_layout()\n",
    "\n",
    "if SAVE:\n",
    "    plt.savefig(f\"{SAVE_PATH}reloj.png\")\n"
   ]
  },
  {
   "cell_type": "markdown",
   "metadata": {},
   "source": [
    "## Final Ranking"
   ]
  },
  {
   "cell_type": "code",
   "execution_count": null,
   "metadata": {},
   "outputs": [],
   "source": [
    "import matplotlib.pyplot as plt\n",
    "\n",
    "# Create DataFrame\n",
    "df_ranking = agg_df.copy()\n",
    "\n",
    "# Set the 'user' column as the index\n",
    "df_ranking.set_index('user', inplace=True)\n",
    "\n",
    "# Drop all columns except 'caca'\n",
    "df_ranking = df_ranking[['caca']]\n",
    "\n",
    "# Sort by amount of caca\n",
    "df_ranking.sort_values(by='caca', ascending=False, inplace=True)\n",
    "\n",
    "# Define a custom color palette (gold, silver, bronze, grey)\n",
    "colors = ['gold', 'silver', 'peru'] + ['grey'] * (len(df_ranking) - 3)\n",
    "\n",
    "# Plot the data\n",
    "fig, ax = plt.subplots(figsize=(10, 6))\n",
    "bars = ax.bar(df_ranking.index, df_ranking['caca'], color=colors)\n",
    "\n",
    "# Title and axis labels\n",
    "plt.title('Gran Cagatón 2024 - Resultados Finales', fontsize=16)\n",
    "plt.ylabel('Total Cagadas', fontsize=12)\n",
    "plt.xlabel('Competidor', fontsize=12)\n",
    "plt.xticks(rotation=45, fontsize=10, fontweight='bold')\n",
    "\n",
    "# Add number labels above each bar\n",
    "for index, bar in enumerate(bars):\n",
    "    value = bar.get_height()\n",
    "    plt.text(bar.get_x() + bar.get_width() / 2, value + 1, str(int(value)), \n",
    "             ha='center', fontsize=10)\n",
    "\n",
    "# Save the plot\n",
    "if SAVE:\n",
    "    plt.savefig(f\"{SAVE_PATH}final_ranking.png\")\n",
    "\n",
    "# Show the plot\n",
    "plt.show()\n"
   ]
  }
 ],
 "metadata": {
  "kernelspec": {
   "display_name": "Python 3",
   "language": "python",
   "name": "python3"
  },
  "language_info": {
   "codemirror_mode": {
    "name": "ipython",
    "version": 3
   },
   "file_extension": ".py",
   "mimetype": "text/x-python",
   "name": "python",
   "nbconvert_exporter": "python",
   "pygments_lexer": "ipython3",
   "version": "3.10.11"
  }
 },
 "nbformat": 4,
 "nbformat_minor": 2
}
