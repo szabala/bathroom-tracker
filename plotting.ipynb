{
 "cells": [
  {
   "cell_type": "markdown",
   "metadata": {},
   "source": [
    "## Imports and Data"
   ]
  },
  {
   "cell_type": "code",
   "execution_count": null,
   "metadata": {},
   "outputs": [],
   "source": [
    "# PLOTTING\n",
    "import matplotlib.pyplot as plt\n",
    "from matplotlib.font_manager import FontProperties\n",
    "import seaborn as sns\n",
    "import pandas as pd\n",
    "import calmap\n",
    "import datetime"
   ]
  },
  {
   "cell_type": "code",
   "execution_count": null,
   "metadata": {},
   "outputs": [],
   "source": [
    "df = pd.read_csv('data/cacas_latest.csv')\n",
    "dateString = datetime.datetime.now().strftime(\"%d-%m\")"
   ]
  },
  {
   "cell_type": "markdown",
   "metadata": {},
   "source": [
    "## Poop Ranking"
   ]
  },
  {
   "cell_type": "code",
   "execution_count": null,
   "metadata": {},
   "outputs": [],
   "source": [
    "# Group by 'user' and calculate the sum for each group\n",
    "result_df = df.groupby('user').agg({\n",
    "    'caca': 'sum',\n",
    "    'caca en el trabajo': 'sum'\n",
    "}).reset_index()\n",
    "\n",
    "# Rename columns for clarity\n",
    "result_df.columns = ['competidor', 'Caca', 'Caca Laboral']\n",
    "# \n",
    "# melt the dataframe to long format\n",
    "result_df = result_df.melt(id_vars='competidor', var_name='tipo', value_name='cantidad')\n",
    "# sort the dataframe by 'cantidad'\n",
    "result_df.sort_values('cantidad', ascending=False, inplace=True)\n",
    "result_df"
   ]
  },
  {
   "cell_type": "code",
   "execution_count": null,
   "metadata": {},
   "outputs": [],
   "source": [
    "# Plot the data\n",
    "plt.figure(figsize=(10, 6))\n",
    "# sns.catplot(data=result_df, x='competidor', y='cantidad', hue='tipo', kind='bar', height=6, aspect=2)\n",
    "\n",
    "# Create the bar plot\n",
    "sns.barplot(\n",
    "    data=result_df,\n",
    "    x=\"competidor\",\n",
    "    y=\"cantidad\",\n",
    "    hue=\"tipo\",\n",
    "    # Style\n",
    "    palette=\"YlOrBr\",\n",
    "    width=.8, \n",
    "    linewidth=2.5,\n",
    ")\n",
    "# \n",
    "# Customize labels and title\n",
    "plt.xlabel(\"Competidor\", fontsize=14)\n",
    "plt.ylabel(\"Cantidad de Cacas\", fontsize=14)\n",
    "plt.title(\"Ranking Gran Cagatón Anual\", fontsize=16)\n",
    "\n",
    "# Move legend to top right\n",
    "plt.legend(title=\"Tipo de Caca\", loc=\"upper right\", bbox_to_anchor=(1.25, 1))  # Adjust x-position if needed\n",
    "\n",
    "# Rotate x-axis labels for better readability\n",
    "plt.xticks(rotation=45, ha=\"right\")\n",
    "\n",
    "# Show the plot\n",
    "plt.tight_layout()\n",
    "\n",
    "# save the plot in the 'plots' folder with day and month in the filename\n",
    "plt.savefig(f'plots/ranking_{dateString}.png')\n",
    "\n",
    "plt.show()"
   ]
  },
  {
   "cell_type": "markdown",
   "metadata": {},
   "source": [
    "## Poop Calendar"
   ]
  },
  {
   "cell_type": "code",
   "execution_count": null,
   "metadata": {},
   "outputs": [],
   "source": [
    "# melt into long format, having \"caca\" and \"caca en el trabajo\" in the same column\n",
    "df_melted = df.melt(id_vars=['date', 'user'], value_vars=['caca', 'caca en el trabajo'], var_name='tipo', value_name='cantidad')\n",
    "df_melted['date'] = pd.to_datetime(df_melted['date'])\n",
    "df_melted"
   ]
  },
  {
   "cell_type": "code",
   "execution_count": null,
   "metadata": {},
   "outputs": [],
   "source": [
    "# Group data by user and date, summing the 'cantidad' values\n",
    "grouped_data = df_melted.groupby(['user', 'date'])['cantidad'].sum().reset_index()\n",
    "\n",
    "# Get unique users\n",
    "unique_users = grouped_data['user'].unique()\n",
    "\n",
    "# Create subplots for each user\n",
    "fig, axes = plt.subplots(len(unique_users), 1, figsize=(21, 4 * len(unique_users)), sharex=True)\n",
    "\n",
    "# Set the title for the entire plot\n",
    "fig.suptitle('Track Gran Cagatón Anual', fontsize=30)\n",
    "\n",
    "# Iterate through each user and create a calendar map\n",
    "for i, user in enumerate(unique_users):\n",
    "    user_data = grouped_data[grouped_data['user'] == user].set_index('date')\n",
    "    calmap.yearplot(user_data['cantidad'], year=user_data.index.year.unique()[0], ax=axes[i], cmap='YlOrBr', monthticks=1)\n",
    "    # set fontsize for axis labels\n",
    "    axes[i].set_title(f\"{user}\")\n",
    "    axes[i].title.set_fontsize(20)\n",
    "\n",
    "# center it\n",
    "fig.tight_layout()\n",
    "\n",
    "# save the plot in the 'plots' folder with day and month in the filename\n",
    "plt.savefig(f'plots/calendar_{dateString}.png')\n",
    "\n",
    "plt.show()\n"
   ]
  }
 ],
 "metadata": {
  "kernelspec": {
   "display_name": "Python 3",
   "language": "python",
   "name": "python3"
  },
  "language_info": {
   "codemirror_mode": {
    "name": "ipython",
    "version": 3
   },
   "file_extension": ".py",
   "mimetype": "text/x-python",
   "name": "python",
   "nbconvert_exporter": "python",
   "pygments_lexer": "ipython3",
   "version": "3.10.11"
  }
 },
 "nbformat": 4,
 "nbformat_minor": 2
}
